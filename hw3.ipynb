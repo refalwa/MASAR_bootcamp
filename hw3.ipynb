{
  "nbformat": 4,
  "nbformat_minor": 0,
  "metadata": {
    "colab": {
      "provenance": [],
      "authorship_tag": "ABX9TyNaC4drNwuUnZHIHWZfdqW+",
      "include_colab_link": true
    },
    "kernelspec": {
      "name": "python3",
      "display_name": "Python 3"
    },
    "language_info": {
      "name": "python"
    }
  },
  "cells": [
    {
      "cell_type": "markdown",
      "metadata": {
        "id": "view-in-github",
        "colab_type": "text"
      },
      "source": [
        "<a href=\"https://colab.research.google.com/github/refalwa/MASAR_bootcamp/blob/main/hw3.ipynb\" target=\"_parent\"><img src=\"https://colab.research.google.com/assets/colab-badge.svg\" alt=\"Open In Colab\"/></a>"
      ]
    },
    {
      "cell_type": "code",
      "source": [
        "def calculate_bonus(years_of_experience, performance_rating):\n",
        "    if years_of_experience <= 10:\n",
        "        if performance_rating == \"ممتاز\":\n",
        "            return 0.10\n",
        "        elif performance_rating == \"ضعيف\":\n",
        "            return 0.05\n",
        "        else:\n",
        "            return 0\n",
        "    else:\n",
        "        if performance_rating == \"ممتاز\":\n",
        "            return 0.20\n",
        "        elif performance_rating == \"ضعيف\":\n",
        "            return 0.15\n",
        "        else:\n",
        "            return 0\n",
        "\n",
        "# تعيين قيم لسنوات الخبرة وتقييم الأداء للاختبار\n",
        "years = 12\n",
        "rating = \"ممتاز\"\n",
        "\n",
        "# حساب المكافأة باستخدام الدالة\n",
        "bonus_percentage = calculate_bonus(years, rating)\n",
        "bonus_amount = bonus_percentage * 100  # تحويل النسبة إلى نسبة مئوية\n",
        "\n",
        "print(f\"المكافأة المستحقة: {bonus_amount}%\")"
      ],
      "metadata": {
        "colab": {
          "base_uri": "https://localhost:8080/"
        },
        "id": "G5yMH4Ks17-o",
        "outputId": "45bef195-8000-422f-ed01-588abb20dbb4"
      },
      "execution_count": 1,
      "outputs": [
        {
          "output_type": "stream",
          "name": "stdout",
          "text": [
            "المكافأة المستحقة: 20.0%\n"
          ]
        }
      ]
    }
  ]
}